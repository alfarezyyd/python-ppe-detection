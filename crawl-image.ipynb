{
 "cells": [
  {
   "cell_type": "code",
   "execution_count": null,
   "id": "0611d56d",
   "metadata": {},
   "outputs": [
    {
     "name": "stderr",
     "output_type": "stream",
     "text": [
      "2025-06-07 09:29:47,017 - INFO - icrawler.crawler - start crawling...\n",
      "2025-06-07 09:29:47,018 - INFO - icrawler.crawler - starting 1 feeder threads...\n",
      "2025-06-07 09:29:47,018 - INFO - feeder - thread feeder-001 exit\n",
      "2025-06-07 09:29:47,019 - INFO - icrawler.crawler - starting 1 parser threads...\n",
      "2025-06-07 09:29:47,020 - INFO - icrawler.crawler - starting 1 downloader threads...\n",
      "2025-06-07 09:29:48,486 - INFO - parser - parsing result page https://www.google.com/search?q=vest+personal+protective+equipment&ijn=0&start=0&tbs=&tbm=isch\n",
      "2025-06-07 09:29:49,585 - INFO - downloader - image #1\thttps://archive.safetyware.com/wp-content/uploads/2020/03/SV4RSKZ0.png\n",
      "2025-06-07 09:29:50,046 - INFO - downloader - image #2\thttps://www.kurniasafety.com/uploads/images/202111/img_455x_6188900d055ed2-92088914-51284162.png\n",
      "2025-06-07 09:29:50,335 - INFO - downloader - image #3\thttps://5.imimg.com/data5/LT/TL/MY-8709218/ppe-reflective-jacket.jpg\n",
      "2025-06-07 09:29:50,465 - INFO - downloader - image #4\thttps://www.kurniasafety.com/uploads/images/202111/img_455x_61888ddce7f783-61441711-17862422.png\n",
      "2025-06-07 09:29:50,618 - INFO - downloader - image #5\thttps://archive.safetyware.com/wp-content/uploads/2018/12/SAFETYWARE_SVYLW004_FRONT.jpg\n",
      "2025-06-07 09:29:51,772 - INFO - downloader - image #6\thttps://cdn.salla.sa/lxnjd/U6QQVa85IJTZdBfMkzKOXmqvWWFkPBATYCqGFc8H.jpg\n",
      "2025-06-07 09:29:53,183 - INFO - downloader - image #7\thttps://www.kwiksafety.com/cdn/shop/files/1-Main_ff49ef75-225d-4fc8-90cc-3a52c2a8b99e.jpg\n",
      "2025-06-07 09:29:54,646 - INFO - downloader - image #8\thttps://www.hazmasters.com/assets/media/g10288/ERGD1271-1359449085.jpg\n",
      "2025-06-07 09:29:56,956 - INFO - downloader - image #9\thttps://www.safetyfirst.lk/wp-content/uploads/2019/03/ORANGE-FLUORESCENT-GREEN-SAFETY-VEST-1024x1024.png\n",
      "2025-06-07 09:29:59,301 - INFO - downloader - image #10\thttps://technopackcorp.com/cdn/shop/products/HI-VIS-TWO-TONE-REVERSIBLE-INSULATED-SAFETY-VEST-WITH-REFLECTIVE-STRIPS-S-VL-10-LM-JORESTECH-H9_1600x1600.png\n",
      "2025-06-07 09:29:59,506 - INFO - downloader - downloaded images reach max num, thread downloader-001 is ready to exit\n",
      "2025-06-07 09:29:59,507 - INFO - downloader - thread downloader-001 exit\n",
      "2025-06-07 09:30:00,066 - INFO - icrawler.crawler - Crawling task done!\n"
     ]
    },
    {
     "name": "stderr",
     "output_type": "stream",
     "text": [
      "2025-06-07 09:30:00,308 - INFO - parser - downloaded image reached max num, thread parser-001 is ready to exit\n",
      "2025-06-07 09:30:00,309 - INFO - parser - thread parser-001 exit\n"
     ]
    }
   ],
   "source": [
    "from icrawler.builtin import GoogleImageCrawler\n",
    "\n",
    "# Tentukan direktori penyimpanan gambar\n",
    "save_dir = 'images/vest_ppe/positive'\n",
    "\n",
    "# Inisialisasi crawler\n",
    "google_crawler = GoogleImageCrawler(storage={'root_dir': save_dir})\n",
    "\n",
    "# Jalankan pencarian\n",
    "google_crawler.crawl(\n",
    "    keyword='vest personal protective equipment',\n",
    "    max_num=10,  \n",
    "    file_idx_offset=0  \n",
    ")\n",
    "\n"
   ]
  },
  {
   "cell_type": "code",
   "execution_count": null,
   "id": "9aa7c363",
   "metadata": {},
   "outputs": [],
   "source": [
    "\n",
    "from icrawler.builtin import GoogleImageCrawler\n",
    "\n",
    "# Tentukan direktori penyimpanan gambar\n",
    "save_dir = 'images/vest_ppe/negative'\n",
    "\n",
    "# Inisialisasi crawler\n",
    "google_crawler = GoogleImageCrawler(storage={'root_dir': save_dir})\n",
    "\n",
    "# Jalankan pencarian\n",
    "google_crawler.crawl(\n",
    "    keyword='man work unsafely without vest',\n",
    "    max_num=10,\n",
    "    file_idx_offset=0  \n",
    ")\n"
   ]
  }
 ],
 "metadata": {
  "kernelspec": {
   "display_name": ".venv",
   "language": "python",
   "name": "python3"
  },
  "language_info": {
   "codemirror_mode": {
    "name": "ipython",
    "version": 3
   },
   "file_extension": ".py",
   "mimetype": "text/x-python",
   "name": "python",
   "nbconvert_exporter": "python",
   "pygments_lexer": "ipython3",
   "version": "3.11.12"
  }
 },
 "nbformat": 4,
 "nbformat_minor": 5
}
